{
 "cells": [
  {
   "cell_type": "markdown",
   "metadata": {},
   "source": [
    "# Make RACs from initial structure"
   ]
  },
  {
   "cell_type": "code",
   "execution_count": 1,
   "metadata": {},
   "outputs": [],
   "source": [
    "import numpy as np\n",
    "import matplotlib.pyplot as plt\n",
    "%matplotlib inline\n",
    "import pickle\n",
    "\n",
    "from collections import defaultdict\n",
    "from molSimplify.Informatics.autocorrelation import*\n"
   ]
  },
  {
   "cell_type": "code",
   "execution_count": 2,
   "metadata": {},
   "outputs": [],
   "source": [
    "def make_rac(xyz_file, m_depth, l_depth, is_oct):\n",
    "    properties = ['electronegativity', 'size', 'polarizability', 'nuclear_charge']\n",
    "    this_mol = mol3D() # mol3D instance\n",
    "    this_mol.readfromxyz(xyz_file)\n",
    "    feature_names = []\n",
    "    mc_corrs = np.zeros(shape=(len(properties), (m_depth+1)))\n",
    "    metal_idx = this_mol.findMetal()[0]\n",
    "    mc_delta_metricz =  np.zeros(shape=(len(properties), m_depth))\n",
    "    for idx, p in enumerate(properties):\n",
    "        delta_list = list(np.asarray(atom_only_deltametric(this_mol, p, m_depth, metal_idx, oct=is_oct)).flatten())\n",
    "        del delta_list[0]\n",
    "        mc_corrs[idx] = np.asarray(atom_only_autocorrelation(this_mol, p, m_depth, metal_idx, oct=is_oct)).flatten()\n",
    "        name_of_idx = [\"MC-mult-{}-{}\".format(p, x) for x in range(0, m_depth+1)]\n",
    "        mc_delta_metricz[idx] = delta_list\n",
    "        feature_names.extend(name_of_idx)\n",
    "        name_of_idx_diff = [\"MC-diff-{}-{}\".format(p, x) for x in range(1, m_depth+1)]\n",
    "        feature_names.extend(name_of_idx_diff)\n",
    "        \n",
    "    if is_oct:\n",
    "        num_connectors = 6\n",
    "    else:\n",
    "        num_connectors = 5\n",
    "    distances = []\n",
    "    origin = this_mol.coordsvect()[metal_idx]\n",
    "    for xyz in this_mol.coordsvect():\n",
    "        distances.append(np.sqrt((xyz[0]-origin[0])**2+(xyz[1]-origin[1])**2+(xyz[2]-origin[2])**2))\n",
    "\n",
    "    nearest_neighbours = np.argpartition(distances, num_connectors)\n",
    "    nn = [x for x in nearest_neighbours[:num_connectors+1] if x != 0]\n",
    "    rest_of_autoz = np.zeros(shape=(len(properties), l_depth+1))\n",
    "    rest_of_deltas = np.zeros(shape=(len(properties), l_depth))\n",
    "    for idx, p in enumerate(properties):\n",
    "        rest_of_autoz[idx] = atom_only_autocorrelation(this_mol, p, l_depth, nn, oct=is_oct)\n",
    "        rest_of_deltas[idx] = atom_only_deltametric(this_mol, p, l_depth, nn)[1:]\n",
    "        name_of_idx = [\"LC-mult-{}-{}\".format(p, x) for x in range(0, l_depth+1)]\n",
    "        name_of_idx_diff = [\"LC-diff-{}-{}\".format(p, x) for x in range(1, l_depth+1)]\n",
    "        feature_names.extend(name_of_idx)\n",
    "        \n",
    "    \n",
    "    rac_res = np.concatenate((mc_corrs, mc_delta_metricz, rest_of_autoz, rest_of_deltas),\n",
    "                                axis=None)\n",
    "\n",
    "    return rac_res, feature_names"
   ]
  },
  {
   "cell_type": "markdown",
   "metadata": {},
   "source": [
    "Now we define different racs with differing feature depths so we can perform the gridsearch in rac_depth_search.ipynb"
   ]
  },
  {
   "cell_type": "code",
   "execution_count": 3,
   "metadata": {},
   "outputs": [],
   "source": [
    "mc_depths = [2, 3, 4]\n",
    "lc_depths = [0,  1]\n",
    "\n",
    "oer_desc_data = pickle.load(open(\"racs_and_desc/oer_desc_data.p\", \"rb\"),)\n",
    "name2oer_desc_and_rac = defaultdict()\n",
    "for mc_d in mc_depths:\n",
    "    for lc_d in lc_depths:\n",
    "        racs = []\n",
    "        oer_desc_for_ml = []\n",
    "        cat_names_for_ml = []\n",
    "        for name in oer_desc_data:\n",
    "            oer_desc = oer_desc_data[name][0]\n",
    "            rac = np.asarray(make_rac(oer_desc_data[name][1], mc_d, lc_d, is_oct=True)[0])\n",
    "            name2oer_desc_and_rac[name] = (oer_desc, rac)\n",
    "        pickle.dump(name2oer_desc_and_rac, open(\"racs_and_desc/data_mc{}_lc{}.p\".format(mc_d, lc_d), \"wb\"))\n",
    "        # overwrite for the next iteration\n",
    "        name2oer_desc_and_rac = defaultdict()\n",
    "    "
   ]
  },
  {
   "cell_type": "code",
   "execution_count": null,
   "metadata": {},
   "outputs": [],
   "source": []
  }
 ],
 "metadata": {
  "kernelspec": {
   "display_name": "molSimplify",
   "language": "python",
   "name": "molsimplify"
  },
  "language_info": {
   "codemirror_mode": {
    "name": "ipython",
    "version": 3
   },
   "file_extension": ".py",
   "mimetype": "text/x-python",
   "name": "python",
   "nbconvert_exporter": "python",
   "pygments_lexer": "ipython3",
   "version": "3.6.13"
  }
 },
 "nbformat": 4,
 "nbformat_minor": 2
}
