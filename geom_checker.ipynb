{
 "cells": [
  {
   "cell_type": "code",
   "execution_count": 1,
   "metadata": {},
   "outputs": [],
   "source": [
    "import os\n",
    "import pickle\n",
    "import numpy as np\n",
    "from ase import io\n",
    "from collections import defaultdict"
   ]
  },
  {
   "cell_type": "code",
   "execution_count": 2,
   "metadata": {},
   "outputs": [],
   "source": [
    "xyz_files = os.listdir(\"xyzs\")\n",
    "final_files = [\"xyzs/\"+x for x in xyz_files if \"final\" in x]"
   ]
  },
  {
   "cell_type": "code",
   "execution_count": 3,
   "metadata": {},
   "outputs": [
    {
     "name": "stdout",
     "output_type": "stream",
     "text": [
      "[18, 44, 25, 27, 3, 17]\n",
      "[18, 44, 25, 27, 3, 26]\n",
      "**********************************\n",
      "Atoms coordinating the metal have changed: xyzs/Mn_oct_desorbed_5_OH_HS_final.xyz\n",
      "**********************************\n",
      "[17, 25, 3, 27, 44, 18]\n",
      "[25, 18, 44, 27, 3, 26]\n",
      "**********************************\n",
      "Atoms coordinating the metal have changed: xyzs/Mn_oct_desorbed_4_OH_HS_final.xyz\n",
      "**********************************\n",
      "[15, 30, 32, 17, 16, 48]\n",
      "[15, 48, 30, 17, 16, 31]\n",
      "**********************************\n",
      "Atoms coordinating the metal have changed: xyzs/Mn_3a1_1_OH_HS_final.xyz\n",
      "**********************************\n",
      "[26, 15, 1, 28, 17, 45]\n",
      "[17, 45, 28, 1, 26, 27]\n",
      "**********************************\n",
      "Atoms coordinating the metal have changed: xyzs/Mn_3a1_11_OH_HS_final.xyz\n",
      "**********************************\n",
      "[17, 18, 3, 28, 30, 41]\n",
      "[28, 17, 3, 18, 29, 41]\n",
      "**********************************\n",
      "Atoms coordinating the metal have changed: xyzs/Mn_3a1_18_OH_HS_final.xyz\n",
      "**********************************\n",
      "[17, 63, 15, 46, 16, 30]\n",
      "[15, 63, 46, 17, 16, 64]\n",
      "**********************************\n",
      "Atoms coordinating the metal have changed: xyzs/Fe_31a_2_OH_HS_final.xyz\n",
      "**********************************\n",
      "[17, 25, 3, 27, 43, 18]\n",
      "[25, 18, 43, 27, 3, 26]\n",
      "**********************************\n",
      "Atoms coordinating the metal have changed: xyzs/Mn_oct_desorbed_2_OH_HS_final.xyz\n",
      "**********************************\n",
      "[17, 25, 3, 27, 44, 18]\n",
      "[7, 2, 8, 1, 5, 4]\n",
      "**********************************\n",
      "Atoms coordinating the metal have changed: xyzs/Ru_oct_desorbed_4_OH_LS_final.xyz\n",
      "**********************************\n",
      "[3, 17, 43, 25, 18, 27]\n",
      "[18, 25, 3, 26, 42, 17]\n",
      "**********************************\n",
      "Atoms coordinating the metal have changed: xyzs/Co_oct_desorbed_1_OH_LS_final.xyz\n",
      "**********************************\n",
      "[1, 15, 17, 26, 44, 28]\n",
      "[26, 17, 1, 15, 27, 44]\n",
      "**********************************\n",
      "Atoms coordinating the metal have changed: xyzs/Mn_3a1_7_OH_HS_final.xyz\n",
      "**********************************\n",
      "[16, 12, 34, 18, 3, 10]\n",
      "[3, 16, 12, 34, 10, 17]\n",
      "**********************************\n",
      "Atoms coordinating the metal have changed: xyzs/Fe_3a1_26_OH_HS_final.xyz\n",
      "**********************************\n",
      "[17, 25, 3, 27, 18, 38]\n",
      "[25, 18, 38, 27, 3, 26]\n",
      "**********************************\n",
      "Atoms coordinating the metal have changed: xyzs/Mn_oct_desorbed_6_OH_HS_final.xyz\n",
      "**********************************\n",
      "[17, 63, 15, 46, 16, 30]\n",
      "[15, 63, 46, 30, 16, 64]\n",
      "**********************************\n",
      "Atoms coordinating the metal have changed: xyzs/Mn_31a_2_OH_HS_final.xyz\n",
      "**********************************\n",
      "[17, 25, 3, 27, 18, 38]\n",
      "[18, 25, 3, 38, 27, 26]\n",
      "**********************************\n",
      "Atoms coordinating the metal have changed: xyzs/Fe_oct_desorbed_6_OH_HS_final.xyz\n",
      "**********************************\n",
      "[17, 15, 30, 32, 16, 48]\n",
      "[16, 30, 15, 17, 48, 31]\n",
      "**********************************\n",
      "Atoms coordinating the metal have changed: xyzs/Mn_3a1_3_OH_HS_final.xyz\n",
      "**********************************\n"
     ]
    }
   ],
   "source": [
    "logs_to_check = []\n",
    "names2check = []\n",
    "init_geoms = defaultdict()\n",
    "for log in final_files:\n",
    "    atoms_obj = io.read(log.replace(\"_final\", \"_init\"))\n",
    "    init_struct = atoms_obj.get_positions()\n",
    "    final_struct = io.read(log).get_positions()\n",
    "    atomic_nums = atoms_obj.get_atomic_numbers()\n",
    "    origin_i = init_struct[np.argmax(atomic_nums)]\n",
    "    origin_f = final_struct[np.argmax(atomic_nums)]\n",
    "    init_distances = []\n",
    "    final_distances = []\n",
    "    for xyz_i, xyz_f in zip(init_struct, final_struct):\n",
    "        init_distances.append(np.sqrt((xyz_i[0]-origin_i[0])**2+(xyz_i[1]-origin_i[1])**2+(xyz_i[2]-origin_i[2])**2))\n",
    "        final_distances.append(np.sqrt((xyz_f[0]-origin_f[0])**2+(xyz_f[1]-origin_f[1])**2+(xyz_f[2]-origin_f[2])**2))\n",
    "        \n",
    "    num_neighbours = 6\n",
    "    init_geoms[log.split(\"/\")[-1]] = log.replace(\"_final\", \"_init\")\n",
    "    nearest_neighbours_i = np.argpartition(init_distances, num_neighbours)\n",
    "    nearest_neighbours_i = [nn for nn in nearest_neighbours_i[:num_neighbours+1] if nn!=np.argmax(atomic_nums)]\n",
    "    nearest_neighbours_f = np.argpartition(final_distances, num_neighbours)\n",
    "    nearest_neighbours_f = [nn for nn in nearest_neighbours_f[:num_neighbours+1] if nn!=np.argmax(atomic_nums)]\n",
    "    if set(nearest_neighbours_i)!=set(nearest_neighbours_f):\n",
    "        print(nearest_neighbours_i)\n",
    "        print(nearest_neighbours_f)\n",
    "        print(\"**********************************\")\n",
    "        print(\"Atoms coordinating the metal have changed: {}\".format(log))\n",
    "        print(\"**********************************\")\n",
    "        logs_to_check.append(log)\n",
    "        names2check.append(log.split(\"/\")[-1])\n",
    "    else:\n",
    "        # all the indices are the same for init and final, just check the bond length change\n",
    "        for index in nearest_neighbours_i:\n",
    "            if final_distances[index] > 1.2*init_distances[index]:\n",
    "                print(index)\n",
    "                print(\"Bond distance 20% increase for {}\".format(log))\n",
    "                logs_to_check.append(log)\n",
    "                names2check.append(log.split(\"/\")[-1])"
   ]
  },
  {
   "cell_type": "markdown",
   "metadata": {},
   "source": [
    "Having flagged these optimizations these simulations were checked manually to determine whether the geometry was truly wrong.  "
   ]
  },
  {
   "cell_type": "code",
   "execution_count": 4,
   "metadata": {},
   "outputs": [],
   "source": [
    "# from checking these logfiles...\n",
    "bad_oer_desc_catalysts = [\"Mn_3a1_14\", \"Fe_41a_2_\", \"Mn_31a_7_\", \"Fe_32a_32\", \"Co_3a1_10\", \"Co_41a_1_\", \"Mn_31a_12\",\n",
    "                        \"Mn_31a_11\", \"Mn_31a_15\", \"Mn_41a_2_\", \"Mn_31a_3_\", \"Mn_31a_8_\", \"Mn_3a1_15\"]"
   ]
  },
  {
   "cell_type": "code",
   "execution_count": 5,
   "metadata": {},
   "outputs": [],
   "source": [
    "from collections import defaultdict\n",
    "\n",
    "desc_data = pickle.load(open(\"oer_desc_gibbs.p\", 'rb'))\n",
    "oer_desc_data = defaultdict()\n",
    "for name in desc_data:\n",
    "    if name not in bad_oer_desc_catalysts and desc_data[name][\"OH\"]!=0:\n",
    "        # the way this data structure was formulated means we need \n",
    "        # to transform it in this way to get the oer descriptor.\n",
    "        for xyz_file in init_geoms:\n",
    "            # find the xyz file in the init_geoms dictionary that matches the catalyst name \n",
    "            # by its appearance as a substring in the filename\n",
    "            if name in xyz_file and \"OH\" in xyz_file:\n",
    "                oer_desc_data[name] = (-desc_data[name][\"OH\"], init_geoms[xyz_file])\n",
    "                break"
   ]
  },
  {
   "cell_type": "code",
   "execution_count": 6,
   "metadata": {},
   "outputs": [],
   "source": [
    "\n",
    "pickle.dump(oer_desc_data, open(\"oer_desc_data.p\", \"wb\"), protocol=2)"
   ]
  },
  {
   "cell_type": "code",
   "execution_count": null,
   "metadata": {},
   "outputs": [],
   "source": []
  }
 ],
 "metadata": {
  "kernelspec": {
   "display_name": "molSimplify",
   "language": "python",
   "name": "molsimplify"
  },
  "language_info": {
   "codemirror_mode": {
    "name": "ipython",
    "version": 3
   },
   "file_extension": ".py",
   "mimetype": "text/x-python",
   "name": "python",
   "nbconvert_exporter": "python",
   "pygments_lexer": "ipython3",
   "version": "3.6.13"
  }
 },
 "nbformat": 4,
 "nbformat_minor": 2
}
