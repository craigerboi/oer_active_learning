{
 "cells": [
  {
   "cell_type": "markdown",
   "metadata": {},
   "source": [
    "# Code to check that the initial and final geometries are not too different"
   ]
  },
  {
   "cell_type": "code",
   "execution_count": 1,
   "metadata": {},
   "outputs": [],
   "source": [
    "import os\n",
    "import pickle\n",
    "import numpy as np\n",
    "from ase import io\n",
    "from collections import defaultdict"
   ]
  },
  {
   "cell_type": "code",
   "execution_count": 2,
   "metadata": {},
   "outputs": [],
   "source": [
    "def geom_is_good(initial_structure, final_structure):\n",
    "    \"\"\"\n",
    "    Args:\n",
    "    initial_structure: starting structure for an optimization\n",
    "    final_structure: final structure from optimization\n",
    "    Returns:\n",
    "    True if no problems found\n",
    "    False otherwise\n",
    "    \"\"\"\n",
    "    atoms_obj = io.read(initial_structure)\n",
    "    init_struct = atoms_obj.get_positions()\n",
    "    final_struct = io.read(final_structure).get_positions()\n",
    "    atomic_nums = atoms_obj.get_atomic_numbers()\n",
    "    # set the metal positions as the origin\n",
    "    origin_i = init_struct[np.argmax(atomic_nums)]\n",
    "    origin_f = final_struct[np.argmax(atomic_nums)]\n",
    "    init_distances = []\n",
    "    final_distances = []\n",
    "    for xyz_i, xyz_f in zip(init_struct, final_struct):\n",
    "        init_distances.append(np.sqrt((xyz_i[0]-origin_i[0])**2+(xyz_i[1]-origin_i[1])**2+(xyz_i[2]-origin_i[2])**2))\n",
    "        final_distances.append(np.sqrt((xyz_f[0]-origin_f[0])**2+(xyz_f[1]-origin_f[1])**2+(xyz_f[2]-origin_f[2])**2))\n",
    "        \n",
    "    num_neighbours = 6\n",
    "    nearest_neighbours_i = np.argpartition(init_distances, num_neighbours)\n",
    "    nearest_neighbours_i = [nn for nn in nearest_neighbours_i[:num_neighbours+1] if nn!=np.argmax(atomic_nums)]\n",
    "    nearest_neighbours_f = np.argpartition(final_distances, num_neighbours)\n",
    "    nearest_neighbours_f = [nn for nn in nearest_neighbours_f[:num_neighbours+1] if nn!=np.argmax(atomic_nums)]\n",
    "    if set(nearest_neighbours_i)!=set(nearest_neighbours_f):\n",
    "        print(nearest_neighbours_i)\n",
    "        print(nearest_neighbours_f)\n",
    "        print(\"**********************************\")\n",
    "        print(\"Atoms coordinating the metal have changed: {}\".format(final_structure))\n",
    "        print(\"**********************************\")\n",
    "        logs_to_check.append(final_structure)\n",
    "        names2check.append(final_structure.split(\"/\")[-1])\n",
    "        return False\n",
    "    else:\n",
    "        # all the indices are the same for init and final, just check the bond length change\n",
    "        for index in nearest_neighbours_i:\n",
    "            if final_distances[index]>1.2*init_distances[index]:\n",
    "                #print(index)\n",
    "                print(\"Bond distance 20% increase for {}\".format(log))\n",
    "                logs_to_check.append(log)\n",
    "                names2check.append(log.split(\"/\")[-1])\n",
    "                return False\n",
    "    \n",
    "    return True"
   ]
  },
  {
   "cell_type": "markdown",
   "metadata": {},
   "source": [
    "Having flagged these optimizations these simulations were checked manually to determine whether the geometry was truly wrong.  "
   ]
  },
  {
   "cell_type": "code",
   "execution_count": null,
   "metadata": {},
   "outputs": [],
   "source": []
  }
 ],
 "metadata": {
  "kernelspec": {
   "display_name": "molSimplify",
   "language": "python",
   "name": "molsimplify"
  },
  "language_info": {
   "codemirror_mode": {
    "name": "ipython",
    "version": 3
   },
   "file_extension": ".py",
   "mimetype": "text/x-python",
   "name": "python",
   "nbconvert_exporter": "python",
   "pygments_lexer": "ipython3",
   "version": "3.6.13"
  }
 },
 "nbformat": 4,
 "nbformat_minor": 2
}
